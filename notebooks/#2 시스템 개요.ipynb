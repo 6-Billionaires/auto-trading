{
 "cells": [
  {
   "cell_type": "code",
   "execution_count": null,
   "metadata": {},
   "outputs": [],
   "source": [
    "# 자동거래 시스템 목표\n",
    "\n",
    "# 1 암호화폐 트레이딩\n",
    "# 2 거래 정보 저장, 가공 분석\n",
    "# 3 스마트폰 알림\n",
    "\n",
    "# 필요모듈\n",
    "# 1 거래소 모듈\n",
    "# 2 트레이딩 로직\n",
    "# 3 거래 정보 저장소\n",
    "# 4 가공 분석 도구\n",
    "# 5 스마트폰 전송 모듈"
   ]
  }
 ],
 "metadata": {
  "kernelspec": {
   "display_name": "Python 3",
   "language": "python",
   "name": "python3"
  },
  "language_info": {
   "codemirror_mode": {
    "name": "ipython",
    "version": 3
   },
   "file_extension": ".py",
   "mimetype": "text/x-python",
   "name": "python",
   "nbconvert_exporter": "python",
   "pygments_lexer": "ipython3",
   "version": "3.5.2"
  }
 },
 "nbformat": 4,
 "nbformat_minor": 2
}
