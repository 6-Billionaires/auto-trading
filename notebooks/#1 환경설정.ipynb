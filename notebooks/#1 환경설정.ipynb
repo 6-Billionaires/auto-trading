{
 "cells": [
  {
   "cell_type": "code",
   "execution_count": 13,
   "metadata": {},
   "outputs": [],
   "source": [
    "# 기본설정 virtualenv, vitualenvwrapper\n",
    "\n",
    "# 설치\n",
    "sudo pip install virtualenv\n",
    "sudo pip install virtualenvwrapper\n",
    "\n",
    "# virtualenvwrapper 환경설정\n",
    "export WORKON_HOME=~/.virtualenvs\n",
    "mkdir -p $WORKON_HOME\n",
    "source /usr/local/bin/virtualenvwrapper.sh # 자동환경 설정 해줌\n",
    "# anaconda의 경우 anaconda 설치 위치에 있음\n",
    "# source /Users/onmylife/anaconda3/bin/virtualenvwrapper.sh\n",
    "\n",
    "# export와 source는 쉘 실행시마다 수행되도록 ~/.profile에 등록 필요\n",
    "\n",
    "# Virtaulenv 사용법\n",
    "mkvirtualenv - 가상 환경 생성\n",
    "rmvirtualenv - 가상 환경 삭제\n",
    "lsvirtualenv - 가상 환경 목록 조회\n",
    "showvirtualenv - 가상 환경 상세 정보 조회\n",
    "cpvirtualenv - 가상 환경 복사\n",
    "\n",
    "# 가상환경 생성 및 진입법\n",
    "cd 프로젝트폴더\n",
    "mkvirtualenv auto-trading --python=python3.5\n",
    "workon auto-trading\n",
    "(auto-trading) $ # 가상환경 진입\n",
    "deactivate # 가상환경 종료\n",
    "\n",
    "#아래부터는 모두 가상환경에서 진행"
   ]
  },
  {
   "cell_type": "code",
   "execution_count": null,
   "metadata": {},
   "outputs": [],
   "source": [
    "# 기본설정 Jupyter 설치\n",
    "\n",
    "# Jupyter 설치\n",
    "pip install jupyter\n",
    "\n",
    "# 주피터 확장 기능 모음 Nbextensions 설치\n",
    "pip install jupyter_contrib_nbextensions"
   ]
  },
  {
   "cell_type": "code",
   "execution_count": null,
   "metadata": {},
   "outputs": [],
   "source": []
  }
 ],
 "metadata": {
  "kernelspec": {
   "display_name": "Python 3",
   "language": "python",
   "name": "python3"
  },
  "language_info": {
   "codemirror_mode": {
    "name": "ipython",
    "version": 3
   },
   "file_extension": ".py",
   "mimetype": "text/x-python",
   "name": "python",
   "nbconvert_exporter": "python",
   "pygments_lexer": "ipython3",
   "version": "3.5.2"
  }
 },
 "nbformat": 4,
 "nbformat_minor": 2
}
